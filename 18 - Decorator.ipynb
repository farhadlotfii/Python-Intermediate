{
 "cells": [
  {
   "attachments": {},
   "cell_type": "markdown",
   "metadata": {},
   "source": [
    "### Familiarity with decorators"
   ]
  },
  {
   "cell_type": "code",
   "execution_count": 68,
   "metadata": {},
   "outputs": [],
   "source": [
    "def func():\n",
    "    print('Hello python')"
   ]
  },
  {
   "cell_type": "code",
   "execution_count": 5,
   "metadata": {},
   "outputs": [
    {
     "name": "stdout",
     "output_type": "stream",
     "text": [
      "Hello python\n"
     ]
    }
   ],
   "source": [
    "func()"
   ]
  },
  {
   "cell_type": "code",
   "execution_count": 6,
   "metadata": {},
   "outputs": [
    {
     "name": "stdout",
     "output_type": "stream",
     "text": [
      "before calling function\n",
      "Hello python\n",
      "after calling function\n"
     ]
    }
   ],
   "source": [
    "# I want to do something before and after execute function\n",
    "\n",
    "def add_message():\n",
    "    print('before calling function')\n",
    "    func()\n",
    "    print('after calling function')\n",
    "    \n",
    "add_message()"
   ]
  },
  {
   "cell_type": "code",
   "execution_count": 7,
   "metadata": {},
   "outputs": [],
   "source": [
    "def add_message(f):\n",
    "    def wrapper():\n",
    "        print('before calling function')\n",
    "        f()\n",
    "        print('after calling function')\n",
    "    return wrapper"
   ]
  },
  {
   "cell_type": "code",
   "execution_count": 8,
   "metadata": {},
   "outputs": [
    {
     "name": "stdout",
     "output_type": "stream",
     "text": [
      "before calling function\n",
      "Hello python\n",
      "after calling function\n"
     ]
    }
   ],
   "source": [
    "# for any functions\n",
    "\n",
    "func2 = add_message(func)\n",
    "func2()"
   ]
  },
  {
   "cell_type": "code",
   "execution_count": 9,
   "metadata": {},
   "outputs": [
    {
     "name": "stdout",
     "output_type": "stream",
     "text": [
      "before calling function\n",
      "before calling function\n",
      "Hello python\n",
      "after calling function\n",
      "after calling function\n"
     ]
    }
   ],
   "source": [
    "func3 = add_message(func2)\n",
    "func3()"
   ]
  },
  {
   "cell_type": "code",
   "execution_count": 10,
   "metadata": {},
   "outputs": [],
   "source": [
    "def add_message(f):\n",
    "    def wrapper():\n",
    "        print('before calling function')\n",
    "        f()\n",
    "        print('after calling function')\n",
    "    return wrapper\n",
    "\n",
    "\n",
    "@add_message\n",
    "def func():\n",
    "    print('hello python')\n",
    "    "
   ]
  },
  {
   "cell_type": "code",
   "execution_count": 11,
   "metadata": {},
   "outputs": [
    {
     "name": "stdout",
     "output_type": "stream",
     "text": [
      "before calling function\n",
      "hello python\n",
      "after calling function\n"
     ]
    }
   ],
   "source": [
    "func()\n",
    "\n",
    "# inherited"
   ]
  },
  {
   "cell_type": "code",
   "execution_count": 25,
   "metadata": {},
   "outputs": [],
   "source": [
    "def greet(name : str = None) -> str:\n",
    "    \n",
    "    '''this is about decorator for testing documentaion'''\n",
    "    if name:\n",
    "        return f\"Hello {name}!\"\n",
    "    else:\n",
    "        return f\"Hello\""
   ]
  },
  {
   "cell_type": "code",
   "execution_count": 26,
   "metadata": {},
   "outputs": [
    {
     "data": {
      "text/plain": [
       "'Hello Farhad!'"
      ]
     },
     "execution_count": 26,
     "metadata": {},
     "output_type": "execute_result"
    }
   ],
   "source": [
    "greet('Farhad')"
   ]
  },
  {
   "cell_type": "code",
   "execution_count": 27,
   "metadata": {},
   "outputs": [
    {
     "data": {
      "text/plain": [
       "'Hello'"
      ]
     },
     "execution_count": 27,
     "metadata": {},
     "output_type": "execute_result"
    }
   ],
   "source": [
    "greet()"
   ]
  },
  {
   "attachments": {},
   "cell_type": "markdown",
   "metadata": {},
   "source": [
    "### Decorator for functions with input"
   ]
  },
  {
   "cell_type": "code",
   "execution_count": 47,
   "metadata": {},
   "outputs": [],
   "source": [
    "def mydec(func):\n",
    "    def wrapper(*args, **kwargs):\n",
    "        print(f'Calling Function : {func.__name__}' )\n",
    "        print(f'{args = }')\n",
    "        print(f'{kwargs = }')\n",
    "        return func(*args, **kwargs)\n",
    "    return wrapper\n",
    "\n",
    "\n",
    "@mydec\n",
    "def greet(name : str = None) -> str:\n",
    "    '''this is about decorator for testing documentaion'''\n",
    "    if name:\n",
    "        return f\"Hello {name}!\"\n",
    "    else:\n",
    "        return f\"Hello\""
   ]
  },
  {
   "cell_type": "code",
   "execution_count": 48,
   "metadata": {},
   "outputs": [
    {
     "name": "stdout",
     "output_type": "stream",
     "text": [
      "Calling Function : greet\n",
      "args = (['farhad', 'Python'],)\n",
      "kwargs = {}\n"
     ]
    },
    {
     "data": {
      "text/plain": [
       "\"Hello ['farhad', 'Python']!\""
      ]
     },
     "execution_count": 48,
     "metadata": {},
     "output_type": "execute_result"
    }
   ],
   "source": [
    "greet(['farhad','Python'])"
   ]
  },
  {
   "cell_type": "code",
   "execution_count": 49,
   "metadata": {},
   "outputs": [
    {
     "name": "stdout",
     "output_type": "stream",
     "text": [
      "Calling Function : greet\n",
      "args = ()\n",
      "kwargs = {}\n"
     ]
    },
    {
     "data": {
      "text/plain": [
       "'Hello'"
      ]
     },
     "execution_count": 49,
     "metadata": {},
     "output_type": "execute_result"
    }
   ],
   "source": [
    "greet()"
   ]
  },
  {
   "cell_type": "code",
   "execution_count": 50,
   "metadata": {},
   "outputs": [
    {
     "name": "stdout",
     "output_type": "stream",
     "text": [
      "Calling Function : greet\n",
      "args = ({'farhad': 'me'},)\n",
      "kwargs = {}\n"
     ]
    },
    {
     "data": {
      "text/plain": [
       "\"Hello {'farhad': 'me'}!\""
      ]
     },
     "execution_count": 50,
     "metadata": {},
     "output_type": "execute_result"
    }
   ],
   "source": [
    "greet({'farhad':'me'})"
   ]
  },
  {
   "cell_type": "code",
   "execution_count": 51,
   "metadata": {},
   "outputs": [
    {
     "data": {
      "text/plain": [
       "'wrapper'"
      ]
     },
     "execution_count": 51,
     "metadata": {},
     "output_type": "execute_result"
    }
   ],
   "source": [
    "greet.__name__"
   ]
  },
  {
   "cell_type": "code",
   "execution_count": 52,
   "metadata": {},
   "outputs": [],
   "source": [
    "greet.__doc__"
   ]
  },
  {
   "cell_type": "code",
   "execution_count": 53,
   "metadata": {},
   "outputs": [],
   "source": [
    "import functools"
   ]
  },
  {
   "cell_type": "code",
   "execution_count": 55,
   "metadata": {},
   "outputs": [],
   "source": [
    "def mydec(func):\n",
    "    \n",
    "    @functools.wraps(func)\n",
    "    def wrapper(*args, **kwargs):\n",
    "        print(f'Calling Function : {func.__name__}' )\n",
    "        print(f'{args = }')\n",
    "        print(f'{kwargs = }')\n",
    "        return func(*args, **kwargs)\n",
    "    return wrapper\n",
    "\n",
    "\n",
    "@mydec\n",
    "def greet(name : str = None) -> str:\n",
    "    '''this is about decorator for testing documentaion'''\n",
    "    if name:\n",
    "        return f\"Hello {name}!\"\n",
    "    else:\n",
    "        return f\"Hello\""
   ]
  },
  {
   "cell_type": "code",
   "execution_count": 56,
   "metadata": {},
   "outputs": [
    {
     "data": {
      "text/plain": [
       "'greet'"
      ]
     },
     "execution_count": 56,
     "metadata": {},
     "output_type": "execute_result"
    }
   ],
   "source": [
    "greet.__name__\n",
    "\n",
    "# for @functools.wraps(func)"
   ]
  },
  {
   "cell_type": "code",
   "execution_count": 57,
   "metadata": {},
   "outputs": [
    {
     "data": {
      "text/plain": [
       "'this is about decorator for testing documentaion'"
      ]
     },
     "execution_count": 57,
     "metadata": {},
     "output_type": "execute_result"
    }
   ],
   "source": [
    "greet.__doc__\n",
    "\n",
    "# for @functools.wraps(func)"
   ]
  },
  {
   "cell_type": "code",
   "execution_count": 58,
   "metadata": {},
   "outputs": [
    {
     "name": "stdout",
     "output_type": "stream",
     "text": [
      "Calling Function : greet\n",
      "args = ('Farhad',)\n",
      "kwargs = {}\n"
     ]
    },
    {
     "data": {
      "text/plain": [
       "'Hello Farhad!'"
      ]
     },
     "execution_count": 58,
     "metadata": {},
     "output_type": "execute_result"
    }
   ],
   "source": [
    "greet('Farhad')"
   ]
  },
  {
   "attachments": {},
   "cell_type": "markdown",
   "metadata": {},
   "source": [
    "### Combination of decorators"
   ]
  },
  {
   "cell_type": "code",
   "execution_count": 60,
   "metadata": {},
   "outputs": [],
   "source": [
    "def convert(func):\n",
    "    \n",
    "    @functools.wraps(func)\n",
    "    def wrapper(*args, **kwargs):\n",
    "        result = func(*args, **kwargs)\n",
    "        result = result.replace('Hello', 'Hi')\n",
    "        return result\n",
    "    return wrapper\n",
    "\n",
    "\n",
    "def uppercase(func):\n",
    "    \n",
    "    @functools.wraps(func)\n",
    "    def wrapper(*args, **kwargs):\n",
    "        result = func(*args, **kwargs)\n",
    "        return result.upper()\n",
    "    return wrapper\n",
    "\n",
    "@uppercase\n",
    "@convert\n",
    "\n",
    "def greet(name : str = None) -> str:\n",
    "    '''this is about decorator for testing documentaion'''\n",
    "    if name:\n",
    "        return f\"Hello {name}!\"\n",
    "    else:\n",
    "        return f\"Hello\""
   ]
  },
  {
   "cell_type": "code",
   "execution_count": 62,
   "metadata": {},
   "outputs": [
    {
     "data": {
      "text/plain": [
       "'HI FARHAD!'"
      ]
     },
     "execution_count": 62,
     "metadata": {},
     "output_type": "execute_result"
    }
   ],
   "source": [
    "greet('Farhad')\n",
    "\n",
    "# first of all exec @convert after that @uppercase\n",
    "# if @uppercase closer than @convert the result is different"
   ]
  },
  {
   "cell_type": "code",
   "execution_count": 65,
   "metadata": {},
   "outputs": [],
   "source": [
    "def strong(func):\n",
    "    \n",
    "    @functools.wraps(func)\n",
    "    def wrapper(*args, **kwargs):\n",
    "        result = func(*args, **kwargs)\n",
    "        return f\"<strong> {result} </strong>\"\n",
    "    return wrapper\n",
    "\n",
    "\n",
    "def italic(func):\n",
    "    \n",
    "    @functools.wraps(func)\n",
    "    def wrapper(*args, **kwargs):\n",
    "        result = func(*args, **kwargs)\n",
    "        return f\"<i> {result} </i>\"\n",
    "    return wrapper\n",
    "\n",
    "\n",
    "\n",
    "@strong\n",
    "@italic\n",
    "def greet(name : str = None) -> str:\n",
    "    '''this is about decorator for testing documentaion'''\n",
    "    if name:\n",
    "        return f\"Hello {name}!\"\n",
    "    else:\n",
    "        return f\"Hello\""
   ]
  },
  {
   "cell_type": "code",
   "execution_count": 67,
   "metadata": {},
   "outputs": [
    {
     "data": {
      "text/plain": [
       "'<strong> <i> Hello Farhad! </i> </strong>'"
      ]
     },
     "execution_count": 67,
     "metadata": {},
     "output_type": "execute_result"
    }
   ],
   "source": [
    "greet('Farhad')\n",
    "\n",
    "# first @italic after that @strong"
   ]
  },
  {
   "attachments": {},
   "cell_type": "markdown",
   "metadata": {},
   "source": [
    "### Decorators with parameters"
   ]
  },
  {
   "cell_type": "code",
   "execution_count": 78,
   "metadata": {},
   "outputs": [],
   "source": [
    "def tag(tag):\n",
    "    \n",
    "    def decorator(func):\n",
    "        \n",
    "        @functools.wraps(func)\n",
    "        def wrapper(*args, **kwargs):\n",
    "            result = func(*args, **kwargs)\n",
    "            return f\"<{tag}> {result} </{tag}>\"\n",
    "        \n",
    "        return wrapper\n",
    "    \n",
    "    return decorator\n",
    "\n",
    "\n",
    "\n",
    "\n",
    "@tag('italic')\n",
    "@tag('strong')\n",
    "@tag('span')\n",
    "def greet(name : str = None) -> str:\n",
    "    '''this is about decorator for testing documentaion'''\n",
    "    if name:\n",
    "        return f\"Hello {name}!\"\n",
    "    else:\n",
    "        return f\"Hello\""
   ]
  },
  {
   "cell_type": "code",
   "execution_count": 79,
   "metadata": {},
   "outputs": [
    {
     "data": {
      "text/plain": [
       "'<italic> <strong> <span> Hello Farhad! </span> </strong> </italic>'"
      ]
     },
     "execution_count": 79,
     "metadata": {},
     "output_type": "execute_result"
    }
   ],
   "source": [
    "greet('Farhad')\n",
    "\n",
    "# greet = tag('strong')(greet)\n",
    "# greet('Farjad')"
   ]
  },
  {
   "attachments": {},
   "cell_type": "markdown",
   "metadata": {},
   "source": [
    "### Define decorator with module"
   ]
  },
  {
   "cell_type": "code",
   "execution_count": 80,
   "metadata": {},
   "outputs": [],
   "source": [
    "from decorator import decorator"
   ]
  },
  {
   "cell_type": "code",
   "execution_count": 81,
   "metadata": {},
   "outputs": [],
   "source": [
    "@decorator\n",
    "def tag(func, tag='tag', *args, **kwargs):\n",
    "    result = func(*args, **kwargs)\n",
    "    return f\"<{tag}> {result} </{tag}>\"\n",
    "\n",
    "\n",
    "@tag(tag='italic')\n",
    "@tag(tag='strong')\n",
    "@tag(tag='span')\n",
    "def greet(name : str = None) -> str:\n",
    "    '''this is about decorator for testing documentaion'''\n",
    "    if name:\n",
    "        return f\"Hello {name}!\"\n",
    "    else:\n",
    "        return f\"Hello\""
   ]
  },
  {
   "cell_type": "code",
   "execution_count": 83,
   "metadata": {},
   "outputs": [
    {
     "data": {
      "text/plain": [
       "'<italic> <strong> <span> Hello Farhad! </span> </strong> </italic>'"
      ]
     },
     "execution_count": 83,
     "metadata": {},
     "output_type": "execute_result"
    }
   ],
   "source": [
    "greet('Farhad')"
   ]
  },
  {
   "cell_type": "code",
   "execution_count": 84,
   "metadata": {},
   "outputs": [],
   "source": [
    "@decorator\n",
    "def info(func, *args, **kwargs):\n",
    "    print(f'Calling Function : {func.__name__}' )\n",
    "    print(f'{args = }')\n",
    "    print(f'{kwargs = }')\n",
    "    return func(*args, **kwargs)\n",
    "\n",
    "\n",
    "@info\n",
    "def greet(name : str = None) -> str:\n",
    "    '''this is about decorator for testing documentaion'''\n",
    "    if name:\n",
    "        return f\"Hello {name}!\"\n",
    "    else:\n",
    "        return f\"Hello\""
   ]
  },
  {
   "cell_type": "code",
   "execution_count": 85,
   "metadata": {},
   "outputs": [
    {
     "name": "stdout",
     "output_type": "stream",
     "text": [
      "Calling Function : greet\n",
      "args = ('Farhad',)\n",
      "kwargs = {}\n"
     ]
    },
    {
     "data": {
      "text/plain": [
       "'Hello Farhad!'"
      ]
     },
     "execution_count": 85,
     "metadata": {},
     "output_type": "execute_result"
    }
   ],
   "source": [
    "greet('Farhad')"
   ]
  },
  {
   "cell_type": "code",
   "execution_count": 86,
   "metadata": {},
   "outputs": [
    {
     "data": {
      "text/plain": [
       "'greet'"
      ]
     },
     "execution_count": 86,
     "metadata": {},
     "output_type": "execute_result"
    }
   ],
   "source": [
    "greet.__name__"
   ]
  },
  {
   "cell_type": "code",
   "execution_count": 87,
   "metadata": {},
   "outputs": [
    {
     "data": {
      "text/plain": [
       "'this is about decorator for testing documentaion'"
      ]
     },
     "execution_count": 87,
     "metadata": {},
     "output_type": "execute_result"
    }
   ],
   "source": [
    "greet.__doc__"
   ]
  },
  {
   "cell_type": "code",
   "execution_count": null,
   "metadata": {},
   "outputs": [],
   "source": []
  }
 ],
 "metadata": {
  "kernelspec": {
   "display_name": "base",
   "language": "python",
   "name": "python3"
  },
  "language_info": {
   "codemirror_mode": {
    "name": "ipython",
    "version": 3
   },
   "file_extension": ".py",
   "mimetype": "text/x-python",
   "name": "python",
   "nbconvert_exporter": "python",
   "pygments_lexer": "ipython3",
   "version": "3.8.5"
  },
  "orig_nbformat": 4
 },
 "nbformat": 4,
 "nbformat_minor": 2
}
