{
 "cells": [
  {
   "attachments": {},
   "cell_type": "markdown",
   "metadata": {},
   "source": [
    "### Sample methods"
   ]
  },
  {
   "cell_type": "code",
   "execution_count": 18,
   "metadata": {},
   "outputs": [
    {
     "data": {
      "text/plain": [
       "Point(x=6, y=8)"
      ]
     },
     "execution_count": 18,
     "metadata": {},
     "output_type": "execute_result"
    }
   ],
   "source": [
    "class Point:\n",
    "    \n",
    "    def __init__(self, x=0, y=0):\n",
    "        self.x = x\n",
    "        self.y = y\n",
    "        \n",
    "    def radius(self):\n",
    "        return (self.x ** 2 + self.y ** 2) ** 0.5\n",
    "        \n",
    "    def __repr__(self):\n",
    "        return f\"Point(x={self.x}, y={self.y})\"\n",
    "    \n",
    "    __str__ = __repr__\n",
    "\n",
    "\n",
    "p = Point(6,8)\n",
    "p"
   ]
  },
  {
   "cell_type": "code",
   "execution_count": 19,
   "metadata": {},
   "outputs": [
    {
     "data": {
      "text/plain": [
       "10.0"
      ]
     },
     "execution_count": 19,
     "metadata": {},
     "output_type": "execute_result"
    }
   ],
   "source": [
    "p.radius()"
   ]
  },
  {
   "attachments": {},
   "cell_type": "markdown",
   "metadata": {},
   "source": [
    "### Class methods and static methods\n",
    "    . The @classmethod decorator is a built-in function decorator that is an expression that gets evaluated after your function is defined. The result of that evaluation shadows your function definition. A class method receives the class as an implicit first argument, just like an instance method receives the instance \n",
    "\n",
    "    . A static method does not receive an implicit first argument. A static method is also a method that is bound to the class and not the object of the class. This method can’t access or modify the class state. It is present in a class because it makes sense for the method to be present in class.\n",
    "\n",
    "\n",
    "    * Class method vs Static Method\n",
    "    The difference between the Class method and the static method is:\n",
    "\n",
    "    . A class method takes cls as the first parameter while a static method needs no specific parameters.\n",
    "    . A class method can access or modify the class state while a static method can’t access or modify it.\n",
    "    . In general, static methods know nothing about the class state. They are utility-type methods that take some parameters and work upon those parameters. On the other hand class methods must have class as a parameter.\n",
    "    . We use @classmethod decorator in python to create a class method and we use @staticmethod decorator to create a static method in python."
   ]
  },
  {
   "cell_type": "code",
   "execution_count": 30,
   "metadata": {},
   "outputs": [
    {
     "data": {
      "text/plain": [
       "Point(x=6, y=8)"
      ]
     },
     "execution_count": 30,
     "metadata": {},
     "output_type": "execute_result"
    }
   ],
   "source": [
    "class Point:\n",
    "    \n",
    "    def __init__(self, x=0, y=0):\n",
    "        self.x = x\n",
    "        self.y = y\n",
    "        \n",
    "    def radius(self):\n",
    "        return self.distance(self.x, self.y, 0, 0)\n",
    "        #return (self.x ** 2 + self.y ** 2) ** 0.5\n",
    "        \n",
    "    def __repr__(self):\n",
    "        return f\"Point(x={self.x}, y={self.y})\"\n",
    "    \n",
    "    __str__ = __repr__\n",
    "    \n",
    "    \n",
    "    @classmethod\n",
    "    def origin(cls):\n",
    "        return Point(0, 0)\n",
    "    \n",
    "    @staticmethod\n",
    "    def distance(x1, y1, x2=0, y2=0):\n",
    "        dx = x2 - x1\n",
    "        dy = y2 - y1\n",
    "        return (dx**2 + dy**2)**0.5\n",
    "    \n",
    "p = Point(6,8)\n",
    "p "
   ]
  },
  {
   "cell_type": "code",
   "execution_count": 36,
   "metadata": {},
   "outputs": [],
   "source": [
    "#  radius -> Instancemethod : atleast require one parameter -> self -> It is available in samples\n",
    "#  origin -> classmethod : atleast require one parameter -> cls -> It is available in full both in samples and in class\n",
    "#  distance -> staticmethod : It can have parameters or not -> It is available in full both in samples and in class"
   ]
  },
  {
   "cell_type": "code",
   "execution_count": 37,
   "metadata": {},
   "outputs": [
    {
     "data": {
      "text/plain": [
       "10.0"
      ]
     },
     "execution_count": 37,
     "metadata": {},
     "output_type": "execute_result"
    }
   ],
   "source": [
    "p.radius()"
   ]
  },
  {
   "cell_type": "code",
   "execution_count": 38,
   "metadata": {},
   "outputs": [
    {
     "data": {
      "text/plain": [
       "10.0"
      ]
     },
     "execution_count": 38,
     "metadata": {},
     "output_type": "execute_result"
    }
   ],
   "source": [
    "Point.radius(p)"
   ]
  },
  {
   "cell_type": "code",
   "execution_count": 39,
   "metadata": {},
   "outputs": [
    {
     "data": {
      "text/plain": [
       "Point(x=0, y=0)"
      ]
     },
     "execution_count": 39,
     "metadata": {},
     "output_type": "execute_result"
    }
   ],
   "source": [
    "p.origin()"
   ]
  },
  {
   "attachments": {},
   "cell_type": "markdown",
   "metadata": {},
   "source": [
    "### Abstract"
   ]
  },
  {
   "cell_type": "code",
   "execution_count": 54,
   "metadata": {},
   "outputs": [],
   "source": [
    "from abc import ABC, ABCMeta,abstractmethod\n",
    "\n",
    "\n",
    "class Base(ABC): # abstract class\n",
    "    \n",
    "    @abstractmethod\n",
    "    def method(self):\n",
    "        pass\n",
    "    \n",
    "class MyClass(Base): # concrete class\n",
    "    def method(self):\n",
    "        print(\"method is defined\")"
   ]
  },
  {
   "cell_type": "code",
   "execution_count": 55,
   "metadata": {},
   "outputs": [],
   "source": [
    "obj = MyClass()"
   ]
  },
  {
   "cell_type": "code",
   "execution_count": 56,
   "metadata": {},
   "outputs": [
    {
     "data": {
      "text/plain": [
       "<__main__.MyClass at 0x205dbab70d0>"
      ]
     },
     "execution_count": 56,
     "metadata": {},
     "output_type": "execute_result"
    }
   ],
   "source": [
    "obj"
   ]
  },
  {
   "cell_type": "code",
   "execution_count": 58,
   "metadata": {},
   "outputs": [],
   "source": [
    "class Base(metaclass=ABCMeta): # abstract class\n",
    "    \n",
    "    @abstractmethod\n",
    "    def method(self):\n",
    "        pass\n",
    "    \n",
    "class MyClass(Base): # concrete class\n",
    "    def method(self):\n",
    "        print(\"method is defined\")\n",
    "        \n",
    "obj = MyClass()"
   ]
  },
  {
   "attachments": {},
   "cell_type": "markdown",
   "metadata": {},
   "source": [
    "### Property"
   ]
  },
  {
   "cell_type": "code",
   "execution_count": 83,
   "metadata": {},
   "outputs": [
    {
     "name": "stdout",
     "output_type": "stream",
     "text": [
      "Point(x=3, y=4)\n"
     ]
    }
   ],
   "source": [
    "class Point:\n",
    "    \n",
    "    def __init__(self, x=0, y=0):\n",
    "        self._x = x\n",
    "        self._y = y\n",
    "    \n",
    "    def __repr__(self):\n",
    "        return f\"Point(x={self._x}, y={self._y})\"    \n",
    "    \n",
    "    @property\n",
    "    def x(self):\n",
    "        return self._x\n",
    "    \n",
    "    @x.setter\n",
    "    def x(self, value):\n",
    "        if type(value) not in (int, float):\n",
    "            raise ValueError(\"Value must be Numerical\")\n",
    "        \n",
    "        self._x = value\n",
    "    \n",
    "    @property\n",
    "    def y(self):\n",
    "        return self._y\n",
    "    \n",
    "    @y.setter\n",
    "    def y(self, value):\n",
    "        if type(value) not in (int, float):\n",
    "            raise ValueError(\"Value must be Numerical\")\n",
    "        \n",
    "        self._y = value\n",
    "    \n",
    "p = Point(3,4)\n",
    "print(p)"
   ]
  },
  {
   "cell_type": "code",
   "execution_count": 84,
   "metadata": {},
   "outputs": [
    {
     "data": {
      "text/plain": [
       "3"
      ]
     },
     "execution_count": 84,
     "metadata": {},
     "output_type": "execute_result"
    }
   ],
   "source": [
    "p._x"
   ]
  },
  {
   "cell_type": "code",
   "execution_count": 85,
   "metadata": {},
   "outputs": [
    {
     "data": {
      "text/plain": [
       "4"
      ]
     },
     "execution_count": 85,
     "metadata": {},
     "output_type": "execute_result"
    }
   ],
   "source": [
    "p._y"
   ]
  },
  {
   "cell_type": "code",
   "execution_count": 86,
   "metadata": {},
   "outputs": [
    {
     "data": {
      "text/plain": [
       "3"
      ]
     },
     "execution_count": 86,
     "metadata": {},
     "output_type": "execute_result"
    }
   ],
   "source": [
    "p.x"
   ]
  },
  {
   "cell_type": "code",
   "execution_count": 87,
   "metadata": {},
   "outputs": [
    {
     "data": {
      "text/plain": [
       "4"
      ]
     },
     "execution_count": 87,
     "metadata": {},
     "output_type": "execute_result"
    }
   ],
   "source": [
    "p.y"
   ]
  },
  {
   "cell_type": "code",
   "execution_count": 88,
   "metadata": {},
   "outputs": [],
   "source": [
    "p.x = 6"
   ]
  },
  {
   "cell_type": "code",
   "execution_count": 89,
   "metadata": {},
   "outputs": [
    {
     "data": {
      "text/plain": [
       "Point(x=6, y=4)"
      ]
     },
     "execution_count": 89,
     "metadata": {},
     "output_type": "execute_result"
    }
   ],
   "source": [
    "p"
   ]
  },
  {
   "cell_type": "code",
   "execution_count": 90,
   "metadata": {},
   "outputs": [
    {
     "ename": "ValueError",
     "evalue": "Value must be Numerical",
     "output_type": "error",
     "traceback": [
      "\u001b[1;31m---------------------------------------------------------------------------\u001b[0m",
      "\u001b[1;31mValueError\u001b[0m                                Traceback (most recent call last)",
      "Cell \u001b[1;32mIn[90], line 1\u001b[0m\n\u001b[1;32m----> 1\u001b[0m p\u001b[39m.\u001b[39;49mx \u001b[39m=\u001b[39m \u001b[39m'\u001b[39m\u001b[39mf\u001b[39m\u001b[39m'\u001b[39m\n",
      "Cell \u001b[1;32mIn[83], line 17\u001b[0m, in \u001b[0;36mPoint.x\u001b[1;34m(self, value)\u001b[0m\n\u001b[0;32m     14\u001b[0m \u001b[39m@x\u001b[39m\u001b[39m.\u001b[39msetter\n\u001b[0;32m     15\u001b[0m \u001b[39mdef\u001b[39;00m \u001b[39mx\u001b[39m(\u001b[39mself\u001b[39m, value):\n\u001b[0;32m     16\u001b[0m     \u001b[39mif\u001b[39;00m \u001b[39mtype\u001b[39m(value) \u001b[39mnot\u001b[39;00m \u001b[39min\u001b[39;00m (\u001b[39mint\u001b[39m, \u001b[39mfloat\u001b[39m):\n\u001b[1;32m---> 17\u001b[0m         \u001b[39mraise\u001b[39;00m \u001b[39mValueError\u001b[39;00m(\u001b[39m\"\u001b[39m\u001b[39mValue must be Numerical\u001b[39m\u001b[39m\"\u001b[39m)\n\u001b[0;32m     19\u001b[0m     \u001b[39mself\u001b[39m\u001b[39m.\u001b[39m_x \u001b[39m=\u001b[39m value\n",
      "\u001b[1;31mValueError\u001b[0m: Value must be Numerical"
     ]
    }
   ],
   "source": [
    "p.x = 'f'"
   ]
  },
  {
   "cell_type": "code",
   "execution_count": null,
   "metadata": {},
   "outputs": [],
   "source": []
  }
 ],
 "metadata": {
  "kernelspec": {
   "display_name": "Python 3",
   "language": "python",
   "name": "python3"
  },
  "language_info": {
   "codemirror_mode": {
    "name": "ipython",
    "version": 3
   },
   "file_extension": ".py",
   "mimetype": "text/x-python",
   "name": "python",
   "nbconvert_exporter": "python",
   "pygments_lexer": "ipython3",
   "version": "3.10.10"
  },
  "orig_nbformat": 4
 },
 "nbformat": 4,
 "nbformat_minor": 2
}
