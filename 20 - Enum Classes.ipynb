{
 "cells": [
  {
   "attachments": {},
   "cell_type": "markdown",
   "metadata": {},
   "source": [
    "## Enum Class\n",
    "    . Week Days\n",
    "    . Keyboard or mouse events\n",
    "    . Discrete parameter values and settings"
   ]
  },
  {
   "cell_type": "code",
   "execution_count": 1,
   "metadata": {},
   "outputs": [],
   "source": [
    "from enum import Enum"
   ]
  },
  {
   "cell_type": "code",
   "execution_count": 4,
   "metadata": {},
   "outputs": [],
   "source": [
    "class WeekDay(Enum):\n",
    "    Saturday = 1\n",
    "    Sunday = 2\n",
    "    Monday = 3\n",
    "    Tuesday = 4\n",
    "    Wednesday = 5\n",
    "    Thursday = 6\n",
    "    Friday = 7\n",
    "    \n",
    "    def __add__(self, w):\n",
    "        a = self.value\n",
    "        if isinstance(w, WeekDay):\n",
    "            b = w.value\n",
    "        else:\n",
    "            b = int(w)\n",
    "        c = (a + b) % 7\n",
    "        if c == 0:\n",
    "            c = 7\n",
    "        \n",
    "        return WeekDay(c)"
   ]
  },
  {
   "cell_type": "code",
   "execution_count": 5,
   "metadata": {},
   "outputs": [
    {
     "name": "stdout",
     "output_type": "stream",
     "text": [
      "wd = <WeekDay.Thursday: 6>\n",
      "<enum 'WeekDay'>\n"
     ]
    }
   ],
   "source": [
    "wd = WeekDay.Thursday\n",
    "\n",
    "print(f\"{wd = }\")\n",
    "print(type(wd))"
   ]
  },
  {
   "cell_type": "code",
   "execution_count": 16,
   "metadata": {},
   "outputs": [
    {
     "data": {
      "text/plain": [
       "<WeekDay.Monday: 3>"
      ]
     },
     "execution_count": 16,
     "metadata": {},
     "output_type": "execute_result"
    }
   ],
   "source": [
    "wd + 9"
   ]
  },
  {
   "cell_type": "code",
   "execution_count": 15,
   "metadata": {},
   "outputs": [
    {
     "name": "stdout",
     "output_type": "stream",
     "text": [
      "Day #1 : Saturday\n",
      "Day #2 : Sunday\n",
      "Day #3 : Monday\n",
      "Day #4 : Tuesday\n",
      "Day #5 : Wednesday\n",
      "Day #6 : Thursday\n",
      "Day #7 : Friday\n",
      "Day #8 : Saturday\n",
      "Day #9 : Sunday\n",
      "Day #10 : Monday\n",
      "Day #11 : Tuesday\n",
      "Day #12 : Wednesday\n",
      "Day #13 : Thursday\n",
      "Day #14 : Friday\n"
     ]
    }
   ],
   "source": [
    "wd = WeekDay.Saturday\n",
    "\n",
    "for i in range(14):\n",
    "    w = wd + i\n",
    "    print(f\"Day #{i + 1} : {w.name}\")\n",
    "    #print(w)"
   ]
  },
  {
   "attachments": {},
   "cell_type": "markdown",
   "metadata": {},
   "source": [
    "### auto"
   ]
  },
  {
   "cell_type": "code",
   "execution_count": null,
   "metadata": {},
   "outputs": [],
   "source": [
    "from enum import Enum, auto"
   ]
  },
  {
   "cell_type": "code",
   "execution_count": null,
   "metadata": {},
   "outputs": [],
   "source": [
    "class WeekDay(Enum):\n",
    "    Saturday = auto()\n",
    "    Sunday = auto()\n",
    "    Monday = auto()\n",
    "    Tuesday = auto()\n",
    "    Wednesday = auto()\n",
    "    Thursday = auto()\n",
    "    Friday = auto()"
   ]
  },
  {
   "cell_type": "code",
   "execution_count": 19,
   "metadata": {},
   "outputs": [
    {
     "data": {
      "text/plain": [
       "<WeekDay.Wednesday: 5>"
      ]
     },
     "execution_count": 19,
     "metadata": {},
     "output_type": "execute_result"
    }
   ],
   "source": [
    "WeekDay(5)"
   ]
  },
  {
   "cell_type": "code",
   "execution_count": 20,
   "metadata": {},
   "outputs": [],
   "source": [
    "from enum import Enum, unique"
   ]
  },
  {
   "cell_type": "code",
   "execution_count": 24,
   "metadata": {},
   "outputs": [
    {
     "ename": "ValueError",
     "evalue": "duplicate values found in <enum 'WeekDay'>: Wednesday -> Tuesday",
     "output_type": "error",
     "traceback": [
      "\u001b[1;31m---------------------------------------------------------------------------\u001b[0m",
      "\u001b[1;31mValueError\u001b[0m                                Traceback (most recent call last)",
      "Cell \u001b[1;32mIn[24], line 2\u001b[0m\n\u001b[0;32m      1\u001b[0m \u001b[39m@unique\u001b[39;49m\n\u001b[1;32m----> 2\u001b[0m \u001b[39mclass\u001b[39;49;00m \u001b[39mWeekDay\u001b[39;49;00m(Enum):\n\u001b[0;32m      3\u001b[0m     Saturday \u001b[39m=\u001b[39;49m \u001b[39m1\u001b[39;49m\n\u001b[0;32m      4\u001b[0m     Sunday \u001b[39m=\u001b[39;49m \u001b[39m2\u001b[39;49m\n",
      "File \u001b[1;32mc:\\Users\\Farhad.lotfi\\AppData\\Local\\Programs\\Python\\Python310\\lib\\enum.py:1022\u001b[0m, in \u001b[0;36munique\u001b[1;34m(enumeration)\u001b[0m\n\u001b[0;32m   1019\u001b[0m \u001b[39mif\u001b[39;00m duplicates:\n\u001b[0;32m   1020\u001b[0m     alias_details \u001b[39m=\u001b[39m \u001b[39m'\u001b[39m\u001b[39m, \u001b[39m\u001b[39m'\u001b[39m\u001b[39m.\u001b[39mjoin(\n\u001b[0;32m   1021\u001b[0m             [\u001b[39m\"\u001b[39m\u001b[39m%s\u001b[39;00m\u001b[39m -> \u001b[39m\u001b[39m%s\u001b[39;00m\u001b[39m\"\u001b[39m \u001b[39m%\u001b[39m (alias, name) \u001b[39mfor\u001b[39;00m (alias, name) \u001b[39min\u001b[39;00m duplicates])\n\u001b[1;32m-> 1022\u001b[0m     \u001b[39mraise\u001b[39;00m \u001b[39mValueError\u001b[39;00m(\u001b[39m'\u001b[39m\u001b[39mduplicate values found in \u001b[39m\u001b[39m%r\u001b[39;00m\u001b[39m: \u001b[39m\u001b[39m%s\u001b[39;00m\u001b[39m'\u001b[39m \u001b[39m%\u001b[39m\n\u001b[0;32m   1023\u001b[0m             (enumeration, alias_details))\n\u001b[0;32m   1024\u001b[0m \u001b[39mreturn\u001b[39;00m enumeration\n",
      "\u001b[1;31mValueError\u001b[0m: duplicate values found in <enum 'WeekDay'>: Wednesday -> Tuesday"
     ]
    }
   ],
   "source": [
    "@unique\n",
    "class WeekDay(Enum):\n",
    "    Saturday = 1\n",
    "    Sunday = 2\n",
    "    Monday = 3\n",
    "    Tuesday = 4\n",
    "    Wednesday = 4\n",
    "    Thursday = 6\n",
    "    Friday = 7\n",
    "    \n",
    "# for duplicate value"
   ]
  },
  {
   "cell_type": "code",
   "execution_count": null,
   "metadata": {},
   "outputs": [],
   "source": []
  }
 ],
 "metadata": {
  "kernelspec": {
   "display_name": "Python 3",
   "language": "python",
   "name": "python3"
  },
  "language_info": {
   "codemirror_mode": {
    "name": "ipython",
    "version": 3
   },
   "file_extension": ".py",
   "mimetype": "text/x-python",
   "name": "python",
   "nbconvert_exporter": "python",
   "pygments_lexer": "ipython3",
   "version": "3.10.10"
  },
  "orig_nbformat": 4
 },
 "nbformat": 4,
 "nbformat_minor": 2
}
