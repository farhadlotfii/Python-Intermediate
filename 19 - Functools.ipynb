{
 "cells": [
  {
   "attachments": {},
   "cell_type": "markdown",
   "metadata": {},
   "source": [
    "### Caching recursive with the cache decorator\n",
    "\n",
    "    Recursive Functions : There are functions whose result is the result of the previous result, such as the Fibonacci series, factorial, etc."
   ]
  },
  {
   "cell_type": "code",
   "execution_count": 1,
   "metadata": {},
   "outputs": [],
   "source": [
    "def fibonacci(n):\n",
    "    if n == 0:\n",
    "        return 0\n",
    "    elif n == 1:\n",
    "        return 1\n",
    "    else:\n",
    "        return fibonacci(n-1) + fibonacci(n-2)"
   ]
  },
  {
   "cell_type": "code",
   "execution_count": 2,
   "metadata": {},
   "outputs": [
    {
     "data": {
      "text/plain": [
       "13"
      ]
     },
     "execution_count": 2,
     "metadata": {},
     "output_type": "execute_result"
    }
   ],
   "source": [
    "fibonacci(7)"
   ]
  },
  {
   "cell_type": "code",
   "execution_count": 3,
   "metadata": {},
   "outputs": [
    {
     "name": "stdout",
     "output_type": "stream",
     "text": [
      "F[0] = 0\n",
      "F[1] = 1\n",
      "F[2] = 1\n",
      "F[3] = 2\n",
      "F[4] = 3\n",
      "F[5] = 5\n",
      "F[6] = 8\n",
      "F[7] = 13\n",
      "F[8] = 21\n",
      "F[9] = 34\n",
      "F[10] = 55\n",
      "F[11] = 89\n",
      "F[12] = 144\n",
      "F[13] = 233\n",
      "F[14] = 377\n",
      "F[15] = 610\n",
      "F[16] = 987\n",
      "F[17] = 1597\n",
      "F[18] = 2584\n",
      "F[19] = 4181\n",
      "F[20] = 6765\n",
      "F[21] = 10946\n",
      "F[22] = 17711\n",
      "F[23] = 28657\n",
      "F[24] = 46368\n",
      "F[25] = 75025\n",
      "F[26] = 121393\n",
      "F[27] = 196418\n",
      "F[28] = 317811\n",
      "F[29] = 514229\n",
      "F[30] = 832040\n",
      "F[31] = 1346269\n",
      "F[32] = 2178309\n"
     ]
    }
   ],
   "source": [
    "for i in range(33):\n",
    "    print(f\"F[{i}] = {fibonacci(i)}\")\n",
    "    \n",
    "# this function Exec but it is very low performance "
   ]
  },
  {
   "cell_type": "code",
   "execution_count": 1,
   "metadata": {},
   "outputs": [],
   "source": [
    "from functools import cache\n",
    "# available from Python 3.9"
   ]
  },
  {
   "cell_type": "code",
   "execution_count": 2,
   "metadata": {},
   "outputs": [],
   "source": [
    "@cache\n",
    "def fibonacci(n):\n",
    "    if n == 0:\n",
    "        return 0\n",
    "    elif n == 1:\n",
    "        return 1\n",
    "    else:\n",
    "        return fibonacci(n-1) + fibonacci(n-2)"
   ]
  },
  {
   "cell_type": "code",
   "execution_count": 6,
   "metadata": {},
   "outputs": [
    {
     "name": "stdout",
     "output_type": "stream",
     "text": [
      "F[0] = 0\n",
      "F[1] = 1\n",
      "F[2] = 1\n",
      "F[3] = 2\n",
      "F[4] = 3\n",
      "F[5] = 5\n",
      "F[6] = 8\n",
      "F[7] = 13\n",
      "F[8] = 21\n",
      "F[9] = 34\n",
      "F[10] = 55\n",
      "F[11] = 89\n",
      "F[12] = 144\n",
      "F[13] = 233\n",
      "F[14] = 377\n",
      "F[15] = 610\n",
      "F[16] = 987\n",
      "F[17] = 1597\n",
      "F[18] = 2584\n",
      "F[19] = 4181\n",
      "F[20] = 6765\n",
      "F[21] = 10946\n",
      "F[22] = 17711\n",
      "F[23] = 28657\n",
      "F[24] = 46368\n",
      "F[25] = 75025\n",
      "F[26] = 121393\n",
      "F[27] = 196418\n",
      "F[28] = 317811\n",
      "F[29] = 514229\n",
      "F[30] = 832040\n",
      "F[31] = 1346269\n",
      "F[32] = 2178309\n",
      "F[33] = 3524578\n",
      "F[34] = 5702887\n",
      "F[35] = 9227465\n",
      "F[36] = 14930352\n",
      "F[37] = 24157817\n",
      "F[38] = 39088169\n",
      "F[39] = 63245986\n",
      "F[40] = 102334155\n",
      "F[41] = 165580141\n",
      "F[42] = 267914296\n",
      "F[43] = 433494437\n",
      "F[44] = 701408733\n",
      "F[45] = 1134903170\n",
      "F[46] = 1836311903\n",
      "F[47] = 2971215073\n",
      "F[48] = 4807526976\n",
      "F[49] = 7778742049\n"
     ]
    }
   ],
   "source": [
    "for i in range(50):\n",
    "    print(f\"F[{i}] = {fibonacci(i)}\")"
   ]
  },
  {
   "cell_type": "code",
   "execution_count": 15,
   "metadata": {},
   "outputs": [],
   "source": [
    "from functools import lru_cache\n",
    "\n",
    "# last 3 items cache\n",
    "\n",
    "@lru_cache(maxsize=3)\n",
    "def fibonacci(n):\n",
    "    if n == 0:\n",
    "        return 0\n",
    "    elif n == 1:\n",
    "        return 1\n",
    "    else:\n",
    "        return fibonacci(n-1) + fibonacci(n-2)"
   ]
  },
  {
   "cell_type": "code",
   "execution_count": 16,
   "metadata": {},
   "outputs": [
    {
     "name": "stdout",
     "output_type": "stream",
     "text": [
      "F[0] = 0\n",
      "F[1] = 1\n",
      "F[2] = 1\n",
      "F[3] = 2\n",
      "F[4] = 3\n",
      "F[5] = 5\n",
      "F[6] = 8\n",
      "F[7] = 13\n",
      "F[8] = 21\n",
      "F[9] = 34\n",
      "F[10] = 55\n",
      "F[11] = 89\n",
      "F[12] = 144\n",
      "F[13] = 233\n",
      "F[14] = 377\n",
      "F[15] = 610\n",
      "F[16] = 987\n",
      "F[17] = 1597\n",
      "F[18] = 2584\n",
      "F[19] = 4181\n",
      "F[20] = 6765\n",
      "F[21] = 10946\n",
      "F[22] = 17711\n",
      "F[23] = 28657\n",
      "F[24] = 46368\n",
      "F[25] = 75025\n",
      "F[26] = 121393\n",
      "F[27] = 196418\n",
      "F[28] = 317811\n",
      "F[29] = 514229\n",
      "F[30] = 832040\n",
      "F[31] = 1346269\n",
      "F[32] = 2178309\n",
      "F[33] = 3524578\n",
      "F[34] = 5702887\n",
      "F[35] = 9227465\n",
      "F[36] = 14930352\n",
      "F[37] = 24157817\n",
      "F[38] = 39088169\n",
      "F[39] = 63245986\n",
      "F[40] = 102334155\n",
      "F[41] = 165580141\n",
      "F[42] = 267914296\n",
      "F[43] = 433494437\n",
      "F[44] = 701408733\n",
      "F[45] = 1134903170\n",
      "F[46] = 1836311903\n",
      "F[47] = 2971215073\n",
      "F[48] = 4807526976\n",
      "F[49] = 7778742049\n"
     ]
    }
   ],
   "source": [
    "for i in range(50):\n",
    "    print(f\"F[{i}] = {fibonacci(i)}\")"
   ]
  },
  {
   "attachments": {},
   "cell_type": "markdown",
   "metadata": {},
   "source": [
    "### Partial"
   ]
  },
  {
   "cell_type": "code",
   "execution_count": 17,
   "metadata": {},
   "outputs": [],
   "source": [
    "def cube(n):\n",
    "    return pow(n, 3)"
   ]
  },
  {
   "cell_type": "code",
   "execution_count": 28,
   "metadata": {},
   "outputs": [
    {
     "data": {
      "text/plain": [
       "[1, 8, 27, 64, 125, 216, 343, 512, 729]"
      ]
     },
     "execution_count": 28,
     "metadata": {},
     "output_type": "execute_result"
    }
   ],
   "source": [
    "[cube(i) for i in range(1,10)]"
   ]
  },
  {
   "cell_type": "code",
   "execution_count": 29,
   "metadata": {},
   "outputs": [],
   "source": [
    "# better way\n",
    "from functools import partial"
   ]
  },
  {
   "cell_type": "code",
   "execution_count": 30,
   "metadata": {},
   "outputs": [],
   "source": [
    "cube = partial(pow, exp=3)"
   ]
  },
  {
   "cell_type": "code",
   "execution_count": 31,
   "metadata": {},
   "outputs": [
    {
     "data": {
      "text/plain": [
       "[1, 8, 27, 64, 125, 216, 343, 512, 729]"
      ]
     },
     "execution_count": 31,
     "metadata": {},
     "output_type": "execute_result"
    }
   ],
   "source": [
    "[cube(i) for i in range(1,10)]"
   ]
  },
  {
   "cell_type": "code",
   "execution_count": 33,
   "metadata": {},
   "outputs": [
    {
     "data": {
      "text/plain": [
       "6"
      ]
     },
     "execution_count": 33,
     "metadata": {},
     "output_type": "execute_result"
    }
   ],
   "source": [
    "a = [5, -2, -4, -8, 6, 4, 2, 1]\n",
    "max(a)"
   ]
  },
  {
   "cell_type": "code",
   "execution_count": 34,
   "metadata": {},
   "outputs": [
    {
     "data": {
      "text/plain": [
       "-8"
      ]
     },
     "execution_count": 34,
     "metadata": {},
     "output_type": "execute_result"
    }
   ],
   "source": [
    "max(a, key=lambda x:abs(x))"
   ]
  },
  {
   "cell_type": "code",
   "execution_count": 35,
   "metadata": {},
   "outputs": [
    {
     "data": {
      "text/plain": [
       "-8"
      ]
     },
     "execution_count": 35,
     "metadata": {},
     "output_type": "execute_result"
    }
   ],
   "source": [
    "maxabs = partial(max, key=lambda x:abs(x))\n",
    "maxabs(a)"
   ]
  },
  {
   "cell_type": "code",
   "execution_count": 48,
   "metadata": {},
   "outputs": [],
   "source": [
    "params = {'key':lambda x:abs(x)}"
   ]
  },
  {
   "cell_type": "code",
   "execution_count": 50,
   "metadata": {},
   "outputs": [
    {
     "data": {
      "text/plain": [
       "-8"
      ]
     },
     "execution_count": 50,
     "metadata": {},
     "output_type": "execute_result"
    }
   ],
   "source": [
    "maxabs = partial(max, **params)\n",
    "maxabs(a)"
   ]
  },
  {
   "attachments": {},
   "cell_type": "markdown",
   "metadata": {},
   "source": [
    "### Reduce"
   ]
  },
  {
   "cell_type": "code",
   "execution_count": 51,
   "metadata": {},
   "outputs": [],
   "source": [
    "ls = [4,5,6,7,8,9]"
   ]
  },
  {
   "cell_type": "code",
   "execution_count": 52,
   "metadata": {},
   "outputs": [],
   "source": [
    "from functools import reduce"
   ]
  },
  {
   "cell_type": "code",
   "execution_count": 55,
   "metadata": {},
   "outputs": [
    {
     "data": {
      "text/plain": [
       "39"
      ]
     },
     "execution_count": 55,
     "metadata": {},
     "output_type": "execute_result"
    }
   ],
   "source": [
    "reduce(lambda x,y: x+y, ls)"
   ]
  },
  {
   "cell_type": "code",
   "execution_count": 56,
   "metadata": {},
   "outputs": [
    {
     "data": {
      "text/plain": [
       "60480"
      ]
     },
     "execution_count": 56,
     "metadata": {},
     "output_type": "execute_result"
    }
   ],
   "source": [
    "reduce(lambda x,y: x*y, ls)"
   ]
  },
  {
   "cell_type": "code",
   "execution_count": 57,
   "metadata": {},
   "outputs": [
    {
     "data": {
      "text/plain": [
       "9"
      ]
     },
     "execution_count": 57,
     "metadata": {},
     "output_type": "execute_result"
    }
   ],
   "source": [
    "reduce(lambda x,y: max(x,y), ls)"
   ]
  },
  {
   "cell_type": "code",
   "execution_count": 58,
   "metadata": {},
   "outputs": [
    {
     "data": {
      "text/plain": [
       "60480"
      ]
     },
     "execution_count": 58,
     "metadata": {},
     "output_type": "execute_result"
    }
   ],
   "source": [
    "# best way\n",
    "\n",
    "prod = partial(reduce, lambda x,y: x*y)\n",
    "prod(ls)"
   ]
  },
  {
   "cell_type": "code",
   "execution_count": 59,
   "metadata": {},
   "outputs": [
    {
     "data": {
      "text/plain": [
       "720"
      ]
     },
     "execution_count": 59,
     "metadata": {},
     "output_type": "execute_result"
    }
   ],
   "source": [
    "prod([1,2,3,4,5,6])"
   ]
  },
  {
   "cell_type": "code",
   "execution_count": null,
   "metadata": {},
   "outputs": [],
   "source": []
  }
 ],
 "metadata": {
  "kernelspec": {
   "display_name": "base",
   "language": "python",
   "name": "python3"
  },
  "language_info": {
   "codemirror_mode": {
    "name": "ipython",
    "version": 3
   },
   "file_extension": ".py",
   "mimetype": "text/x-python",
   "name": "python",
   "nbconvert_exporter": "python",
   "pygments_lexer": "ipython3",
   "version": "3.10.10"
  },
  "orig_nbformat": 4
 },
 "nbformat": 4,
 "nbformat_minor": 2
}
